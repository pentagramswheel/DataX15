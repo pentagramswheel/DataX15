{
  "nbformat": 4,
  "nbformat_minor": 0,
  "metadata": {
    "colab": {
      "name": "Run_to_update.ipynb",
      "provenance": [],
      "collapsed_sections": [
        "FrZzLikuTtyv",
        "aqbBbZnkzD4O"
      ]
    },
    "kernelspec": {
      "name": "python3",
      "display_name": "Python 3"
    },
    "language_info": {
      "name": "python"
    }
  },
  "cells": [
    {
      "cell_type": "markdown",
      "metadata": {
        "id": "EwgwiQE27MqH"
      },
      "source": [
        "# **Scraping Notebook**"
      ]
    },
    {
      "cell_type": "markdown",
      "metadata": {
        "id": "WNWciSCD9fAg"
      },
      "source": [
        "The purpose of this notebook is to be run every month to update our datasets with the last reviews published, and get reviews for the new companies we want to study."
      ]
    },
    {
      "cell_type": "markdown",
      "metadata": {
        "id": "nvOLMpqq_met"
      },
      "source": [
        "## **0) Imports**"
      ]
    },
    {
      "cell_type": "code",
      "metadata": {
        "id": "3nNjeQ_j7eBu"
      },
      "source": [
        "#!git clone https://github.com/pentagramswheel/DataX15.git\n",
        "\n",
        "import sys\n",
        "root_path = 'DataX15/Final Project/'\n",
        "sys.path.append(root_path + 'data-acquisition')\n",
        "\n",
        "\n",
        "import pandas as pd\n",
        "import notebook_script"
      ],
      "execution_count": 1,
      "outputs": []
    },
    {
      "cell_type": "markdown",
      "metadata": {
        "id": "M3FEmFWCS1LH"
      },
      "source": [
        "In order to run the scraper you will need to get connected to your Glassdoor account. Please upload a secret.json file into the data-acquisition subfolder: {\"username\": your_username, \"password\": your_password}\n",
        "\n",
        "or use the create_credentials() function."
      ]
    },
    {
      "cell_type": "code",
      "metadata": {
        "id": "H8gXzoRHRWmL"
      },
      "source": [
        "your_username = 'put_your_glassdoor_username'\n",
        "your_password = 'put_your_glassdoor_password' # cybersecurity <3\n",
        "notebook_script.create_credentials(your_username, your_password, root_path)"
      ],
      "execution_count": 4,
      "outputs": []
    },
    {
      "cell_type": "markdown",
      "metadata": {
        "id": "E7ToqkGtTad9"
      },
      "source": [
        "## **1) Open data**"
      ]
    },
    {
      "cell_type": "code",
      "metadata": {
        "colab": {
          "base_uri": "https://localhost:8080/",
          "height": 396
        },
        "id": "Ye1o6sSeJzXP",
        "outputId": "9ce5f63b-ae08-4736-c741-cfec2efb6219"
      },
      "source": [
        "companies = pd.read_csv(root_path + 'datasets/studied_companies.csv', sep = ';')\n",
        "all_reviews = pd.read_csv(root_path + 'datasets/all_reviews.csv', sep = ';')\n",
        "\n",
        "display(companies.head())\n",
        "display(all_reviews.head())"
      ],
      "execution_count": 2,
      "outputs": [
        {
          "output_type": "display_data",
          "data": {
            "text/html": [
              "<div>\n",
              "<style scoped>\n",
              "    .dataframe tbody tr th:only-of-type {\n",
              "        vertical-align: middle;\n",
              "    }\n",
              "\n",
              "    .dataframe tbody tr th {\n",
              "        vertical-align: top;\n",
              "    }\n",
              "\n",
              "    .dataframe thead th {\n",
              "        text-align: right;\n",
              "    }\n",
              "</style>\n",
              "<table border=\"1\" class=\"dataframe\">\n",
              "  <thead>\n",
              "    <tr style=\"text-align: right;\">\n",
              "      <th></th>\n",
              "      <th>Company</th>\n",
              "      <th>URL</th>\n",
              "      <th>Latest review</th>\n",
              "    </tr>\n",
              "  </thead>\n",
              "  <tbody>\n",
              "    <tr>\n",
              "      <th>0</th>\n",
              "      <td>Aramco</td>\n",
              "      <td>https://www.glassdoor.com/Reviews/Saudi-Aramco...</td>\n",
              "      <td>NaN</td>\n",
              "    </tr>\n",
              "    <tr>\n",
              "      <th>1</th>\n",
              "      <td>BP</td>\n",
              "      <td>https://www.glassdoor.com/Reviews/BP-Reviews-E...</td>\n",
              "      <td>NaN</td>\n",
              "    </tr>\n",
              "    <tr>\n",
              "      <th>2</th>\n",
              "      <td>Chevron</td>\n",
              "      <td>https://www.glassdoor.com/Reviews/Chevron-Revi...</td>\n",
              "      <td>NaN</td>\n",
              "    </tr>\n",
              "    <tr>\n",
              "      <th>3</th>\n",
              "      <td>ConocoPhillips</td>\n",
              "      <td>https://www.glassdoor.com/Reviews/ConocoPhilli...</td>\n",
              "      <td>NaN</td>\n",
              "    </tr>\n",
              "    <tr>\n",
              "      <th>4</th>\n",
              "      <td>DTE</td>\n",
              "      <td>https://www.glassdoor.com/Reviews/DTE-Energy-R...</td>\n",
              "      <td>NaN</td>\n",
              "    </tr>\n",
              "  </tbody>\n",
              "</table>\n",
              "</div>"
            ],
            "text/plain": [
              "          Company  ... Latest review\n",
              "0          Aramco  ...           NaN\n",
              "1              BP  ...           NaN\n",
              "2         Chevron  ...           NaN\n",
              "3  ConocoPhillips  ...           NaN\n",
              "4             DTE  ...           NaN\n",
              "\n",
              "[5 rows x 3 columns]"
            ]
          },
          "metadata": {}
        },
        {
          "output_type": "display_data",
          "data": {
            "text/html": [
              "<div>\n",
              "<style scoped>\n",
              "    .dataframe tbody tr th:only-of-type {\n",
              "        vertical-align: middle;\n",
              "    }\n",
              "\n",
              "    .dataframe tbody tr th {\n",
              "        vertical-align: top;\n",
              "    }\n",
              "\n",
              "    .dataframe thead th {\n",
              "        text-align: right;\n",
              "    }\n",
              "</style>\n",
              "<table border=\"1\" class=\"dataframe\">\n",
              "  <thead>\n",
              "    <tr style=\"text-align: right;\">\n",
              "      <th></th>\n",
              "      <th>Unnamed: 0</th>\n",
              "      <th>Company</th>\n",
              "      <th>date</th>\n",
              "      <th>employee_title</th>\n",
              "      <th>employee_status</th>\n",
              "      <th>review_title</th>\n",
              "      <th>pros</th>\n",
              "      <th>cons</th>\n",
              "    </tr>\n",
              "  </thead>\n",
              "  <tbody>\n",
              "    <tr>\n",
              "      <th>0</th>\n",
              "      <td>0</td>\n",
              "      <td>ExxonMobil</td>\n",
              "      <td>2021-05-18</td>\n",
              "      <td>IT Analyst</td>\n",
              "      <td>Current Employee, more than 1 year</td>\n",
              "      <td>Great Company Overall</td>\n",
              "      <td>Great work environment Great benefits Pretty g...</td>\n",
              "      <td>I have not experienced anything negative so fa...</td>\n",
              "    </tr>\n",
              "    <tr>\n",
              "      <th>1</th>\n",
              "      <td>1</td>\n",
              "      <td>ExxonMobil</td>\n",
              "      <td>2021-09-04</td>\n",
              "      <td>R&amp;D Manager</td>\n",
              "      <td>Former Employee</td>\n",
              "      <td>working on energy R&amp;D</td>\n",
              "      <td>Outstanding colleagues, working on high impact...</td>\n",
              "      <td>Difficult industry business environment curren...</td>\n",
              "    </tr>\n",
              "    <tr>\n",
              "      <th>2</th>\n",
              "      <td>2</td>\n",
              "      <td>ExxonMobil</td>\n",
              "      <td>2021-10-16</td>\n",
              "      <td>Chemical Technician</td>\n",
              "      <td>Current Employee, more than 3 years</td>\n",
              "      <td>Flexibility</td>\n",
              "      <td>The flexibility and the nature of working ther...</td>\n",
              "      <td>No downside. PERIOD. Such a great place to joi...</td>\n",
              "    </tr>\n",
              "    <tr>\n",
              "      <th>3</th>\n",
              "      <td>3</td>\n",
              "      <td>ExxonMobil</td>\n",
              "      <td>2021-10-15</td>\n",
              "      <td>Anonymous</td>\n",
              "      <td>Current Employee, more than 10 years</td>\n",
              "      <td>I can only be thankful</td>\n",
              "      <td>I am achieving my dreams in partnership with t...</td>\n",
              "      <td>It is hard times right now. But for me, it's w...</td>\n",
              "    </tr>\n",
              "    <tr>\n",
              "      <th>4</th>\n",
              "      <td>4</td>\n",
              "      <td>ExxonMobil</td>\n",
              "      <td>2021-10-13</td>\n",
              "      <td>Engineer</td>\n",
              "      <td>Former Employee</td>\n",
              "      <td>Decent company to work for</td>\n",
              "      <td>Competitive pay, structured benefits, and job ...</td>\n",
              "      <td>Even if you worked your tail off the whole yea...</td>\n",
              "    </tr>\n",
              "  </tbody>\n",
              "</table>\n",
              "</div>"
            ],
            "text/plain": [
              "   Unnamed: 0  ...                                               cons\n",
              "0           0  ...  I have not experienced anything negative so fa...\n",
              "1           1  ...  Difficult industry business environment curren...\n",
              "2           2  ...  No downside. PERIOD. Such a great place to joi...\n",
              "3           3  ...  It is hard times right now. But for me, it's w...\n",
              "4           4  ...  Even if you worked your tail off the whole yea...\n",
              "\n",
              "[5 rows x 8 columns]"
            ]
          },
          "metadata": {}
        }
      ]
    },
    {
      "cell_type": "markdown",
      "metadata": {
        "id": "FrZzLikuTtyv"
      },
      "source": [
        "## **2) Update existing reviews datasets**"
      ]
    },
    {
      "cell_type": "code",
      "metadata": {
        "id": "14jGYdb9_H5U"
      },
      "source": [
        "notebook_script.update_reviews_studied_companies()"
      ],
      "execution_count": null,
      "outputs": []
    },
    {
      "cell_type": "markdown",
      "metadata": {
        "id": "aqbBbZnkzD4O"
      },
      "source": [
        "## **3) Get new companies' reviews**"
      ]
    },
    {
      "cell_type": "markdown",
      "metadata": {
        "id": "kYx8dyebzauz"
      },
      "source": [
        "This sections enables getting reviews for new companies we don't have yet in our datasets."
      ]
    },
    {
      "cell_type": "code",
      "metadata": {
        "colab": {
          "base_uri": "https://localhost:8080/",
          "height": 34
        },
        "id": "kQvIvPRuzUq2",
        "outputId": "350758a6-a0bd-41ff-d698-17ee69520478"
      },
      "source": [
        "min_date = '2021-10-22' # Select the date from which you want reviews for the new companies\n",
        "notebook_script.get_reviews_new_companies(min_date)"
      ],
      "execution_count": 6,
      "outputs": [
        {
          "output_type": "execute_result",
          "data": {
            "application/vnd.google.colaboratory.intrinsic+json": {
              "type": "string"
            },
            "text/plain": [
              "'No new companies to scrape'"
            ]
          },
          "metadata": {},
          "execution_count": 6
        }
      ]
    },
    {
      "cell_type": "markdown",
      "metadata": {
        "id": "HJd0qGf3e8kC"
      },
      "source": [
        "## **4) Update all_reviews.csv file (reviews, classification and sentiment)**"
      ]
    },
    {
      "cell_type": "code",
      "metadata": {
        "colab": {
          "base_uri": "https://localhost:8080/",
          "height": 206
        },
        "id": "vN1FeXXYWCif",
        "outputId": "77a349f7-c772-4463-f216-9a7aba36eaf8"
      },
      "source": [
        "all_reviews = notebook_script.assemble_all_reviews(root_path) # assemble all the reviews, clean them and save them in all_reviews.csv\n",
        "display(all_reviews.head())"
      ],
      "execution_count": 7,
      "outputs": [
        {
          "output_type": "display_data",
          "data": {
            "text/html": [
              "<div>\n",
              "<style scoped>\n",
              "    .dataframe tbody tr th:only-of-type {\n",
              "        vertical-align: middle;\n",
              "    }\n",
              "\n",
              "    .dataframe tbody tr th {\n",
              "        vertical-align: top;\n",
              "    }\n",
              "\n",
              "    .dataframe thead th {\n",
              "        text-align: right;\n",
              "    }\n",
              "</style>\n",
              "<table border=\"1\" class=\"dataframe\">\n",
              "  <thead>\n",
              "    <tr style=\"text-align: right;\">\n",
              "      <th></th>\n",
              "      <th>Company</th>\n",
              "      <th>date</th>\n",
              "      <th>employee_title</th>\n",
              "      <th>employee_status</th>\n",
              "      <th>review_title</th>\n",
              "      <th>pros</th>\n",
              "      <th>cons</th>\n",
              "    </tr>\n",
              "  </thead>\n",
              "  <tbody>\n",
              "    <tr>\n",
              "      <th>0</th>\n",
              "      <td>Vestas</td>\n",
              "      <td>2021-10-21</td>\n",
              "      <td>Team Leader</td>\n",
              "      <td>Current Employee</td>\n",
              "      <td>solid company</td>\n",
              "      <td>rewarding work with lots of growth\\n</td>\n",
              "      <td>Challenging work loads but great training\\nBe ...</td>\n",
              "    </tr>\n",
              "    <tr>\n",
              "      <th>1</th>\n",
              "      <td>Vestas</td>\n",
              "      <td>2021-10-23</td>\n",
              "      <td>Resource Technician II</td>\n",
              "      <td>Current Employee, more than 5 years</td>\n",
              "      <td>Company ok</td>\n",
              "      <td>Supplied Brand new vehicle. Company card for a...</td>\n",
              "      <td>Rare to moving up to management. 100 percent t...</td>\n",
              "    </tr>\n",
              "    <tr>\n",
              "      <th>2</th>\n",
              "      <td>Vestas</td>\n",
              "      <td>2021-09-13</td>\n",
              "      <td>Engineer</td>\n",
              "      <td>Current Employee, more than 1 year</td>\n",
              "      <td>Great compensation, far from headquarters</td>\n",
              "      <td>Compensation, benefits are very good. Many tal...</td>\n",
              "      <td>Volume of projects makes is difficult to focus...</td>\n",
              "    </tr>\n",
              "    <tr>\n",
              "      <th>3</th>\n",
              "      <td>Vestas</td>\n",
              "      <td>2021-09-21</td>\n",
              "      <td>NDT Inspector Level II</td>\n",
              "      <td>Former Employee</td>\n",
              "      <td>Good company</td>\n",
              "      <td>Excellent job and great work\\n</td>\n",
              "      <td>None to speak of or anything\\nBe the first to ...</td>\n",
              "    </tr>\n",
              "    <tr>\n",
              "      <th>4</th>\n",
              "      <td>Vestas</td>\n",
              "      <td>2021-09-01</td>\n",
              "      <td>Senior Electrical Engineer</td>\n",
              "      <td>Former Employee, more than 8 years</td>\n",
              "      <td>Great culture with great benefits</td>\n",
              "      <td>Vestas is an industry leader in wind technolog...</td>\n",
              "      <td>Wind is a fluctuating market and you are never...</td>\n",
              "    </tr>\n",
              "  </tbody>\n",
              "</table>\n",
              "</div>"
            ],
            "text/plain": [
              "  Company  ...                                               cons\n",
              "0  Vestas  ...  Challenging work loads but great training\\nBe ...\n",
              "1  Vestas  ...  Rare to moving up to management. 100 percent t...\n",
              "2  Vestas  ...  Volume of projects makes is difficult to focus...\n",
              "3  Vestas  ...  None to speak of or anything\\nBe the first to ...\n",
              "4  Vestas  ...  Wind is a fluctuating market and you are never...\n",
              "\n",
              "[5 rows x 7 columns]"
            ]
          },
          "metadata": {}
        }
      ]
    },
    {
      "cell_type": "code",
      "metadata": {
        "colab": {
          "base_uri": "https://localhost:8080/",
          "height": 424
        },
        "id": "_YW-nX1eY0Yg",
        "outputId": "99b1c102-b8b1-4127-da64-5bbec5522fd2"
      },
      "source": [
        "all_reviews = predict_sentiment(all_reviews) # predicts 'pros' and 'cons' sentiment and saves the updated all_reviews.csv\n",
        "display(all_reviews.head())"
      ],
      "execution_count": 4,
      "outputs": [
        {
          "output_type": "execute_result",
          "data": {
            "text/html": [
              "<div>\n",
              "<style scoped>\n",
              "    .dataframe tbody tr th:only-of-type {\n",
              "        vertical-align: middle;\n",
              "    }\n",
              "\n",
              "    .dataframe tbody tr th {\n",
              "        vertical-align: top;\n",
              "    }\n",
              "\n",
              "    .dataframe thead th {\n",
              "        text-align: right;\n",
              "    }\n",
              "</style>\n",
              "<table border=\"1\" class=\"dataframe\">\n",
              "  <thead>\n",
              "    <tr style=\"text-align: right;\">\n",
              "      <th></th>\n",
              "      <th>Company</th>\n",
              "      <th>date</th>\n",
              "      <th>employee_title</th>\n",
              "      <th>employee_status</th>\n",
              "      <th>review_title</th>\n",
              "      <th>pros</th>\n",
              "      <th>cons</th>\n",
              "    </tr>\n",
              "  </thead>\n",
              "  <tbody>\n",
              "    <tr>\n",
              "      <th>0</th>\n",
              "      <td>Vestas</td>\n",
              "      <td>2021-10-21</td>\n",
              "      <td>Team Leader</td>\n",
              "      <td>Current Employee</td>\n",
              "      <td>solid company</td>\n",
              "      <td>rewarding work with lots of growth\\n</td>\n",
              "      <td>Challenging work loads but great training\\nBe ...</td>\n",
              "    </tr>\n",
              "    <tr>\n",
              "      <th>1</th>\n",
              "      <td>Vestas</td>\n",
              "      <td>2021-10-23</td>\n",
              "      <td>Resource Technician II</td>\n",
              "      <td>Current Employee, more than 5 years</td>\n",
              "      <td>Company ok</td>\n",
              "      <td>Supplied Brand new vehicle. Company card for a...</td>\n",
              "      <td>Rare to moving up to management. 100 percent t...</td>\n",
              "    </tr>\n",
              "    <tr>\n",
              "      <th>2</th>\n",
              "      <td>Vestas</td>\n",
              "      <td>2021-09-13</td>\n",
              "      <td>Engineer</td>\n",
              "      <td>Current Employee, more than 1 year</td>\n",
              "      <td>Great compensation, far from headquarters</td>\n",
              "      <td>Compensation, benefits are very good. Many tal...</td>\n",
              "      <td>Volume of projects makes is difficult to focus...</td>\n",
              "    </tr>\n",
              "    <tr>\n",
              "      <th>3</th>\n",
              "      <td>Vestas</td>\n",
              "      <td>2021-09-21</td>\n",
              "      <td>NDT Inspector Level II</td>\n",
              "      <td>Former Employee</td>\n",
              "      <td>Good company</td>\n",
              "      <td>Excellent job and great work\\n</td>\n",
              "      <td>None to speak of or anything\\nBe the first to ...</td>\n",
              "    </tr>\n",
              "    <tr>\n",
              "      <th>4</th>\n",
              "      <td>Vestas</td>\n",
              "      <td>2021-09-01</td>\n",
              "      <td>Senior Electrical Engineer</td>\n",
              "      <td>Former Employee, more than 8 years</td>\n",
              "      <td>Great culture with great benefits</td>\n",
              "      <td>Vestas is an industry leader in wind technolog...</td>\n",
              "      <td>Wind is a fluctuating market and you are never...</td>\n",
              "    </tr>\n",
              "    <tr>\n",
              "      <th>...</th>\n",
              "      <td>...</td>\n",
              "      <td>...</td>\n",
              "      <td>...</td>\n",
              "      <td>...</td>\n",
              "      <td>...</td>\n",
              "      <td>...</td>\n",
              "      <td>...</td>\n",
              "    </tr>\n",
              "    <tr>\n",
              "      <th>605</th>\n",
              "      <td>Shell</td>\n",
              "      <td>2020-04-19</td>\n",
              "      <td>Senior Analyst</td>\n",
              "      <td>Former Employee</td>\n",
              "      <td>Decent company but a bit stale</td>\n",
              "      <td>It was fairly stable and professional\\n</td>\n",
              "      <td>Not as much opportunity as you would expect\\n1...</td>\n",
              "    </tr>\n",
              "    <tr>\n",
              "      <th>606</th>\n",
              "      <td>Shell</td>\n",
              "      <td>2020-04-03</td>\n",
              "      <td>Marketing Analyst</td>\n",
              "      <td>Current Employee</td>\n",
              "      <td>GREAT COMPANY!</td>\n",
              "      <td>Even in a time of a crisis, Shell is doing eve...</td>\n",
              "      <td>None, just love working here\\nAdvice to Manage...</td>\n",
              "    </tr>\n",
              "    <tr>\n",
              "      <th>607</th>\n",
              "      <td>Shell</td>\n",
              "      <td>2020-04-11</td>\n",
              "      <td>Part Time Cashier</td>\n",
              "      <td>Former Employee, more than 3 years</td>\n",
              "      <td>Pros and cons of working at a gas station.</td>\n",
              "      <td>and cons of working at a gas station.\\nApr 11,...</td>\n",
              "      <td>Possibly dangerous working alone, on your feet...</td>\n",
              "    </tr>\n",
              "    <tr>\n",
              "      <th>608</th>\n",
              "      <td>Shell</td>\n",
              "      <td>2020-04-08</td>\n",
              "      <td>Business Development</td>\n",
              "      <td>Current Employee, more than 10 years</td>\n",
              "      <td>Good place to work long term</td>\n",
              "      <td>Work/ life balance, smart staff, global presen...</td>\n",
              "      <td>Bureaucracy, too big, too slow, usually requir...</td>\n",
              "    </tr>\n",
              "    <tr>\n",
              "      <th>609</th>\n",
              "      <td>Shell</td>\n",
              "      <td>2020-04-01</td>\n",
              "      <td>IT Manager</td>\n",
              "      <td>Former Employee, more than 8 years</td>\n",
              "      <td>Good and Bad</td>\n",
              "      <td>Well Paid, Great Benefits, Good People in the ...</td>\n",
              "      <td>Management doesn't take input\\nBe the first to...</td>\n",
              "    </tr>\n",
              "  </tbody>\n",
              "</table>\n",
              "<p>8796 rows × 7 columns</p>\n",
              "</div>"
            ],
            "text/plain": [
              "    Company  ...                                               cons\n",
              "0    Vestas  ...  Challenging work loads but great training\\nBe ...\n",
              "1    Vestas  ...  Rare to moving up to management. 100 percent t...\n",
              "2    Vestas  ...  Volume of projects makes is difficult to focus...\n",
              "3    Vestas  ...  None to speak of or anything\\nBe the first to ...\n",
              "4    Vestas  ...  Wind is a fluctuating market and you are never...\n",
              "..      ...  ...                                                ...\n",
              "605   Shell  ...  Not as much opportunity as you would expect\\n1...\n",
              "606   Shell  ...  None, just love working here\\nAdvice to Manage...\n",
              "607   Shell  ...  Possibly dangerous working alone, on your feet...\n",
              "608   Shell  ...  Bureaucracy, too big, too slow, usually requir...\n",
              "609   Shell  ...  Management doesn't take input\\nBe the first to...\n",
              "\n",
              "[8796 rows x 7 columns]"
            ]
          },
          "metadata": {},
          "execution_count": 4
        }
      ]
    },
    {
      "cell_type": "code",
      "metadata": {
        "id": "dJzaUTHnbK7q"
      },
      "source": [
        "all_reviews = predict_social_classification(all_reviews, root_path) # predicts 'pros' and 'cons' Social subcriteria and saves the updated all_reviews.csv\n",
        "display(all_reviews.head())"
      ],
      "execution_count": null,
      "outputs": []
    },
    {
      "cell_type": "markdown",
      "metadata": {
        "id": "zt8yWs0XGd8E"
      },
      "source": [
        "## **5) Push the work to git repo**"
      ]
    },
    {
      "cell_type": "code",
      "metadata": {
        "colab": {
          "base_uri": "https://localhost:8080/"
        },
        "id": "A8cvpkGkGc7N",
        "outputId": "aae80307-d875-4fe3-94da-164d48b8026d"
      },
      "source": [
        "!git push https://github.com/pentagramswheel/DataX15.git Final Project:origin master"
      ],
      "execution_count": null,
      "outputs": [
        {
          "output_type": "stream",
          "name": "stdout",
          "text": [
            "fatal: not a git repository (or any of the parent directories): .git\n"
          ]
        }
      ]
    }
  ]
}